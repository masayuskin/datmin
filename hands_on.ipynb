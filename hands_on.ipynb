{
  "nbformat": 4,
  "nbformat_minor": 0,
  "metadata": {
    "colab": {
      "provenance": []
    },
    "kernelspec": {
      "name": "python3",
      "display_name": "Python 3"
    },
    "language_info": {
      "name": "python"
    }
  },
  "cells": [
    {
      "cell_type": "code",
      "execution_count": 3,
      "metadata": {
        "id": "mo0Zotkytq_5",
        "colab": {
          "base_uri": "https://localhost:8080/"
        },
        "outputId": "340476e0-d276-4e8e-c0c8-bc2b1d2d2d6a"
      },
      "outputs": [
        {
          "output_type": "stream",
          "name": "stdout",
          "text": [
            "sample_data  titanic.csv\n"
          ]
        }
      ],
      "source": [
        "!ls\n",
        "# sample_data titanic.csv\n",
        "import pandas as pd\n",
        "df = pd.read_csv('titanic.csv')\n",
        "# df.info() = info perkolom data type dan jumlah nya dll\n",
        "# df.describe() = ini untuk statistiknya mean dll\n",
        "# df['Age'] = untuk liat per kolom atau bisa df.Age\n",
        "# df[['Age', 'Parch', 'Ticket']] = untuk liat beberapa kolom pilihan\n",
        "# df.iloc[11] = hanya untuk pilihan nomor keberapa\n",
        "# df[df['Age']>30] = menampilkan pilihan yang beurmur diats 30\n",
        "# df[(df['Sex']=='male') & (df['Survived'])==1] = penumpang pria yang selamat\n",
        "# df['FamilySize'] = df['SibSp'] + df['Parch'] + 1\n"
      ]
    },
    {
      "cell_type": "markdown",
      "source": [
        "\n",
        "dataset dari atas, kalo gaada deskripsi angkanya cuma dapet 4 terbawah dataset\n",
        "\n"
      ],
      "metadata": {
        "id": "hUDW6nd88Pto"
      }
    },
    {
      "cell_type": "code",
      "source": [
        "df.head(222)"
      ],
      "metadata": {
        "id": "MUSiKlhK8bFZ"
      },
      "execution_count": null,
      "outputs": []
    },
    {
      "cell_type": "markdown",
      "source": [
        "dataset dari bawah"
      ],
      "metadata": {
        "id": "1cnBEtbX8auv"
      }
    },
    {
      "cell_type": "code",
      "source": [
        "df.tail(22)"
      ],
      "metadata": {
        "id": "jPjC6KxJ8mvJ"
      },
      "execution_count": null,
      "outputs": []
    },
    {
      "cell_type": "markdown",
      "source": [
        "Jumlah kolom dan baris"
      ],
      "metadata": {
        "id": "DPA8hE_N8sTg"
      }
    },
    {
      "cell_type": "code",
      "source": [
        "df.shape"
      ],
      "metadata": {
        "id": "g8LyAuA481xx"
      },
      "execution_count": null,
      "outputs": []
    },
    {
      "cell_type": "markdown",
      "source": [
        "nama kolom"
      ],
      "metadata": {
        "id": "qWlfAYpaADtF"
      }
    },
    {
      "cell_type": "code",
      "source": [
        "df.columns"
      ],
      "metadata": {
        "id": "gDzd9nCAAGG9"
      },
      "execution_count": null,
      "outputs": []
    }
  ]
}